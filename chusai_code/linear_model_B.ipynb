{
 "cells": [
  {
   "cell_type": "code",
   "execution_count": 22,
   "metadata": {
    "collapsed": true
   },
   "outputs": [],
   "source": [
    "import pandas as pd\n",
    "from pandas import Series, DataFrame\n",
    "import numpy as np\n",
    "from scipy.stats import mode\n",
    "import csv\n",
    "import matplotlib.dates\n",
    "from datetime import *\n",
    "from sklearn import linear_model\n",
    "from sklearn.preprocessing import *\n",
    "from sklearn import ensemble\n",
    "from sklearn.linear_model import LinearRegression\n",
    "from sklearn.model_selection import train_test_split\n",
    "from sklearn.externals import joblib"
   ]
  },
  {
   "cell_type": "code",
   "execution_count": 23,
   "metadata": {
    "collapsed": true
   },
   "outputs": [],
   "source": [
    "# 划分训练集和测试集\n",
    "def trainTestSplit(df, splitN, trainLabel):\n",
    "    trainX = df[:splitN][trainLabel]\n",
    "    trainY = df[:splitN]['cnt']\n",
    "    testX = df[splitN:][trainLabel]\n",
    "    testY = df[splitN:]['cnt']\n",
    "    return (trainX, trainY, testX, testY)\n",
    "\n",
    "# 训练模型\n",
    "def trainModel(X, y):\n",
    "    clf = LinearRegression()\n",
    "#     clf = ensemble.RandomForestRegressor()\n",
    "    clf.fit(X, y)\n",
    "    print('Coefficients:', clf.coef_)\n",
    "    return clf\n",
    "\n",
    "# 检验模型\n",
    "def validModel(trainX, trainY, testX, testY):\n",
    "    clf = trainModel(trainX, trainY)\n",
    "    predictY = clf.predict(testX)\n",
    "    cost = np.linalg.norm(predictY - testY)**2 / len(predictY)\n",
    "    print(\"cost:\", cost)\n",
    "    \n",
    "# 添加过去第i周的统计量\n",
    "def statWeek(df, weeks):\n",
    "    if isinstance(weeks, int):\n",
    "        weeks = [weeks]\n",
    "    colName = []\n",
    "    for i in weeks:\n",
    "        weekDf = pd.pivot_table(df, index=['week'], values=['cnt'], aggfunc=[np.mean, np.std, np.max, np.min])\n",
    "        weekDf.columns = ['mean%d'%i, 'std%d'%i, 'max%d'%i, 'min%d'%i]\n",
    "        colName.extend(weekDf.columns)\n",
    "        weekDf.index += i\n",
    "        df = pd.merge(df, weekDf, left_on='week', right_index=True, how='left')\n",
    "    return df,colName\n",
    "\n",
    "# 导出预测结果\n",
    "def exportResult(df, fileName):\n",
    "    df.to_csv('./%s.txt' % fileName, sep='\\t', header=False, index=False)"
   ]
  },
  {
   "cell_type": "code",
   "execution_count": 24,
   "metadata": {},
   "outputs": [
    {
     "name": "stdout",
     "output_type": "stream",
     "text": [
      "    cnt  day  day_of_week  guess_date  week  date_year  date_month  \\\n",
      "0    68    3            3  2013-01-02     0       2013           1   \n",
      "1    36    4            4  2013-01-03     0       2013           1   \n",
      "2  5565    5            5  2013-01-04     0       2013           1   \n",
      "3  4966    6            6  2013-01-05     0       2013           1   \n",
      "4  3346    7            7  2013-01-06     0       2013           1   \n",
      "5  3396    8            1  2013-01-07     1       2013           1   \n",
      "6  4146    9            2  2013-01-08     1       2013           1   \n",
      "7  3096   10            3  2013-01-09     1       2013           1   \n",
      "8  2713   11            4  2013-01-10     1       2013           1   \n",
      "9  2409   12            5  2013-01-11     1       2013           1   \n",
      "\n",
      "   date_property  sale_quantity dividedMonth        ...          date_month_5  \\\n",
      "0              2        28137.0        early        ...                     0   \n",
      "1              2        28137.0        early        ...                     0   \n",
      "2              0        28137.0        early        ...                     0   \n",
      "3              0        28137.0        early        ...                     0   \n",
      "4              0        28137.0        early        ...                     0   \n",
      "5              0        28137.0        early        ...                     0   \n",
      "6              0        28137.0        early        ...                     0   \n",
      "7              0        28137.0        early        ...                     0   \n",
      "8              0        28137.0        early        ...                     0   \n",
      "9              0        28137.0        early        ...                     0   \n",
      "\n",
      "   date_month_6  date_month_7  date_month_8  date_month_9  date_month_10  \\\n",
      "0             0             0             0             0              0   \n",
      "1             0             0             0             0              0   \n",
      "2             0             0             0             0              0   \n",
      "3             0             0             0             0              0   \n",
      "4             0             0             0             0              0   \n",
      "5             0             0             0             0              0   \n",
      "6             0             0             0             0              0   \n",
      "7             0             0             0             0              0   \n",
      "8             0             0             0             0              0   \n",
      "9             0             0             0             0              0   \n",
      "\n",
      "   date_month_11  date_month_12  dividedMonth_early  dividedMonth_late  \n",
      "0              0              0                   1                  0  \n",
      "1              0              0                   1                  0  \n",
      "2              0              0                   1                  0  \n",
      "3              0              0                   1                  0  \n",
      "4              0              0                   1                  0  \n",
      "5              0              0                   1                  0  \n",
      "6              0              0                   1                  0  \n",
      "7              0              0                   1                  0  \n",
      "8              0              0                   1                  0  \n",
      "9              0              0                   1                  0  \n",
      "\n",
      "[10 rows x 48 columns]\n"
     ]
    }
   ],
   "source": [
    "#导入训练数据\n",
    "train_data = pd.read_csv('B_train_feature_set.csv')\n",
    "\n",
    "print(train_data.head(10))"
   ]
  },
  {
   "cell_type": "code",
   "execution_count": 55,
   "metadata": {},
   "outputs": [
    {
     "name": "stdout",
     "output_type": "stream",
     "text": [
      "<class 'pandas.core.frame.DataFrame'>\n",
      "RangeIndex: 1307 entries, 0 to 1306\n",
      "Data columns (total 33 columns):\n",
      "week_scaled             1307 non-null float64\n",
      "date_year_scaled        1307 non-null float64\n",
      "sale_quantity_scaled    1307 non-null float64\n",
      "day_of_week_1           1307 non-null int64\n",
      "day_of_week_2           1307 non-null int64\n",
      "day_of_week_3           1307 non-null int64\n",
      "day_of_week_4           1307 non-null int64\n",
      "day_of_week_5           1307 non-null int64\n",
      "day_of_week_6           1307 non-null int64\n",
      "day_of_week_7           1307 non-null int64\n",
      "date_property_0         1307 non-null int64\n",
      "date_property_1         1307 non-null int64\n",
      "date_property_2         1307 non-null int64\n",
      "date_month_1            1307 non-null int64\n",
      "date_month_2            1307 non-null int64\n",
      "date_month_3            1307 non-null int64\n",
      "date_month_4            1307 non-null int64\n",
      "date_month_5            1307 non-null int64\n",
      "date_month_6            1307 non-null int64\n",
      "date_month_7            1307 non-null int64\n",
      "date_month_8            1307 non-null int64\n",
      "date_month_9            1307 non-null int64\n",
      "date_month_10           1307 non-null int64\n",
      "date_month_11           1307 non-null int64\n",
      "date_month_12           1307 non-null int64\n",
      "dividedMonth_late       1307 non-null int64\n",
      "dividedMonth_early      1307 non-null int64\n",
      "after_restday_one       1307 non-null int64\n",
      "after_holiday_one       1307 non-null int64\n",
      "is_holi_restday         1307 non-null int64\n",
      "is_newYearDay           1307 non-null int64\n",
      "isHolidayWeekend        1307 non-null int64\n",
      "isPureWeekend           1307 non-null int64\n",
      "dtypes: float64(3), int64(30)\n",
      "memory usage: 337.0 KB\n",
      "None\n",
      "cnt                             1433\n",
      "day                             1509\n",
      "day_of_week                        4\n",
      "guess_date                2017-02-16\n",
      "week                             215\n",
      "date_year                       2017\n",
      "date_month                         2\n",
      "date_property                      0\n",
      "sale_quantity                  44669\n",
      "dividedMonth                    late\n",
      "pre_date_property                  0\n",
      "after_restday_one                  0\n",
      "after_holiday_one                  0\n",
      "is_holi_restday                    0\n",
      "is_newYearDay                      0\n",
      "isHolidayWeekend                   0\n",
      "after_date_property                0\n",
      "pre_isHolidayWeekend               0\n",
      "after_isHolidayWeekend             0\n",
      "isPureWeekend                      0\n",
      "week_scaled                 0.839844\n",
      "day_scaled                  0.840871\n",
      "date_year_scaled                   1\n",
      "sale_quantity_scaled        0.436779\n",
      "day_of_week_1                      0\n",
      "day_of_week_2                      0\n",
      "day_of_week_3                      0\n",
      "day_of_week_4                      1\n",
      "day_of_week_5                      0\n",
      "day_of_week_6                      0\n",
      "day_of_week_7                      0\n",
      "date_property_0                    1\n",
      "date_property_1                    0\n",
      "date_property_2                    0\n",
      "date_month_1                       0\n",
      "date_month_2                       1\n",
      "date_month_3                       0\n",
      "date_month_4                       0\n",
      "date_month_5                       0\n",
      "date_month_6                       0\n",
      "date_month_7                       0\n",
      "date_month_8                       0\n",
      "date_month_9                       0\n",
      "date_month_10                      0\n",
      "date_month_11                      0\n",
      "date_month_12                      0\n",
      "dividedMonth_early                 0\n",
      "dividedMonth_late                  1\n",
      "Name: 1306, dtype: object\n"
     ]
    }
   ],
   "source": [
    "# 划分训练测试集\n",
    "splitN = int(train_data.index[-1] * 0.67)\n",
    "fea = ['week_scaled', 'date_year_scaled', 'sale_quantity_scaled', 'day_of_week_1', 'day_of_week_2', 'day_of_week_3',\n",
    "      'day_of_week_4', 'day_of_week_5', 'day_of_week_6', 'day_of_week_7', 'date_property_0', 'date_property_1', 'date_property_2',\n",
    "      'date_month_1', 'date_month_2', 'date_month_3', 'date_month_4', 'date_month_5', 'date_month_6', 'date_month_7',\n",
    "      'date_month_8', 'date_month_9', 'date_month_10', 'date_month_11', 'date_month_12',\n",
    "       'dividedMonth_late', 'dividedMonth_early',\n",
    "      'after_restday_one', 'after_holiday_one', 'is_holi_restday', 'is_newYearDay', 'isHolidayWeekend', 'isPureWeekend']\n",
    "trainX,trainY,testX,testY = trainTestSplit(train_data, splitN, fea)\n",
    "print(trainX.info())"
   ]
  },
  {
   "cell_type": "code",
   "execution_count": 56,
   "metadata": {},
   "outputs": [
    {
     "name": "stdout",
     "output_type": "stream",
     "text": [
      "Coefficients: [ -2.47413212e+04   1.99341687e+04   1.36465940e+03   4.80343535e+16\n",
      "   4.80343535e+16   4.80343535e+16   4.80343535e+16   4.80343535e+16\n",
      "   4.80343535e+16   4.80343535e+16   7.81586322e+16   6.41069093e+16\n",
      "   6.41069093e+16  -5.08659744e+15  -5.08659744e+15  -5.08659744e+15\n",
      "  -5.08659744e+15  -5.08659744e+15  -5.08659744e+15  -5.08659744e+15\n",
      "  -5.08659744e+15  -5.08659744e+15  -5.08659744e+15  -5.08659744e+15\n",
      "  -5.08659744e+15   1.87625744e+16   1.87625744e+16  -5.68000000e+02\n",
      "   1.70650000e+03   1.40517230e+16  -2.98000000e+02   1.40517230e+16\n",
      "   1.40517230e+16]\n"
     ]
    },
    {
     "data": {
      "text/plain": [
       "LinearRegression(copy_X=True, fit_intercept=True, n_jobs=1, normalize=False)"
      ]
     },
     "execution_count": 56,
     "metadata": {},
     "output_type": "execute_result"
    }
   ],
   "source": [
    "#检验模型\n",
    "trainModel(trainX.values, trainY.values)\n",
    "# validModel(trainX.values, trainY.values, testX.values, testY.values)"
   ]
  },
  {
   "cell_type": "code",
   "execution_count": 63,
   "metadata": {},
   "outputs": [
    {
     "name": "stdout",
     "output_type": "stream",
     "text": [
      "Coefficients: [ -2.50807956e+04   2.01711025e+04   1.43492264e+03   5.41025064e+02\n",
      "   3.50212452e+02   5.03895553e+00  -4.98628648e+02  -2.38710144e+02\n",
      "   1.07751517e+02  -2.66689197e+02   1.13074906e+03  -7.04714783e+02\n",
      "  -4.26034275e+02  -1.55457809e+03  -1.48214663e+03  -1.53159095e+03\n",
      "  -1.14046640e+03  -6.73294222e+02  -4.71384231e+02   1.77883677e+01\n",
      "   4.93428831e+02   8.84548797e+02   1.58445249e+03   1.74512983e+03\n",
      "   2.12811220e+03   2.13394145e+01  -2.13394145e+01  -3.02401990e+02\n",
      "   1.73930719e+03  -4.96419520e+02  -1.05461111e+03  -5.09383016e+02\n",
      "  -1.24946522e+02]\n"
     ]
    }
   ],
   "source": [
    "# 正式模型\n",
    "modelName = \"linear2\"\n",
    "clf = trainModel(train_data.loc[train_data.guess_date<'2017-02-16',fea].values, train_data.loc[train_data.guess_date<'2017-02-16','cnt'].values)\n",
    "# clf = trainModel(train_data[-750:][fea].values, train_data[-750:]['cnt'].values)"
   ]
  },
  {
   "cell_type": "code",
   "execution_count": 64,
   "metadata": {},
   "outputs": [
    {
     "name": "stdout",
     "output_type": "stream",
     "text": [
      "   day_of_week  week   day  guess_date  date_year  date_month  date_property  \\\n",
      "0            5   215  1510  2017-02-17       2017           2              0   \n",
      "1            6   215  1511  2017-02-18       2017           2              1   \n",
      "2            7   215  1512  2017-02-19       2017           2              1   \n",
      "3            1   216  1513  2017-02-20       2017           2              0   \n",
      "4            2   216  1514  2017-02-21       2017           2              0   \n",
      "5            3   216  1515  2017-02-22       2017           2              0   \n",
      "6            4   216  1516  2017-02-23       2017           2              0   \n",
      "7            5   216  1517  2017-02-24       2017           2              0   \n",
      "8            6   216  1518  2017-02-25       2017           2              1   \n",
      "9            1   217  1520  2017-02-27       2017           2              0   \n",
      "\n",
      "   sale_quantity dividedMonth  pre_date_property      ...        date_month_6  \\\n",
      "0        44669.0         late                  0      ...                   0   \n",
      "1        44669.0         late                  0      ...                   0   \n",
      "2        44669.0         late                  1      ...                   0   \n",
      "3        44669.0         late                  1      ...                   0   \n",
      "4        44669.0         late                  0      ...                   0   \n",
      "5        44669.0         late                  0      ...                   0   \n",
      "6        44669.0         late                  0      ...                   0   \n",
      "7        44669.0         late                  0      ...                   0   \n",
      "8        44669.0         late                  0      ...                   0   \n",
      "9        44669.0         late                  1      ...                   0   \n",
      "\n",
      "   date_month_7  date_month_8  date_month_9  date_month_10  date_month_11  \\\n",
      "0             0             0             0              0              0   \n",
      "1             0             0             0              0              0   \n",
      "2             0             0             0              0              0   \n",
      "3             0             0             0              0              0   \n",
      "4             0             0             0              0              0   \n",
      "5             0             0             0              0              0   \n",
      "6             0             0             0              0              0   \n",
      "7             0             0             0              0              0   \n",
      "8             0             0             0              0              0   \n",
      "9             0             0             0              0              0   \n",
      "\n",
      "   dividedMonth_early  dividedMonth_late  date_month_1  date_month_12  \n",
      "0                   0                  1             0              0  \n",
      "1                   0                  1             0              0  \n",
      "2                   0                  1             0              0  \n",
      "3                   0                  1             0              0  \n",
      "4                   0                  1             0              0  \n",
      "5                   0                  1             0              0  \n",
      "6                   0                  1             0              0  \n",
      "7                   0                  1             0              0  \n",
      "8                   0                  1             0              0  \n",
      "9                   0                  1             0              0  \n",
      "\n",
      "[10 rows x 47 columns]\n"
     ]
    }
   ],
   "source": [
    "#导入测试数据\n",
    "test_data = pd.read_csv('B_test_feature_set.csv')\n",
    "\n",
    "print(test_data.head(10))"
   ]
  },
  {
   "cell_type": "code",
   "execution_count": 65,
   "metadata": {},
   "outputs": [
    {
     "name": "stdout",
     "output_type": "stream",
     "text": [
      "   date  day_of_week      predict\n",
      "0  1308            5  2406.014282\n",
      "1  1309            6   792.065581\n",
      "2  1310            7   417.624867\n",
      "3  1311            1  2785.375643\n",
      "4  1312            2  2896.965021\n",
      "5  1313            3  2551.791524\n",
      "6  1314            4  2048.123920\n",
      "7  1315            5  2308.042424\n",
      "8  1316            6   694.093723\n",
      "9  1317            1  2687.403785\n"
     ]
    }
   ],
   "source": [
    "#进行预测\n",
    "predict = clf.predict(test_data[:][fea].values)\n",
    "\n",
    "predict_df = pd.read_csv('test_B_20171225.txt', sep='\\t')\n",
    "predict_df['predict'] = predict\n",
    "predict_df['predict'] = predict_df.predict.map(lambda x: 0 if x < 0 else x)\n",
    "\n",
    "print(predict_df.head(10))"
   ]
  },
  {
   "cell_type": "code",
   "execution_count": 66,
   "metadata": {},
   "outputs": [
    {
     "name": "stdout",
     "output_type": "stream",
     "text": [
      "27     2017-03-19\n",
      "59     2017-04-23\n",
      "65     2017-04-29\n",
      "66     2017-04-30\n",
      "93     2017-05-28\n",
      "105    2017-06-11\n",
      "112    2017-06-18\n",
      "119    2017-06-25\n",
      "140    2017-07-16\n",
      "147    2017-07-23\n",
      "154    2017-07-30\n",
      "175    2017-08-20\n",
      "182    2017-08-27\n",
      "217    2017-10-05\n",
      "262    2017-11-19\n",
      "269    2017-11-26\n",
      "Name: guess_date, dtype: object\n"
     ]
    }
   ],
   "source": [
    "#查看预测结果\n",
    "test_data['predict'] = predict\n",
    "\n",
    "# 导出训练集预处理结果\n",
    "def exportPredictResult(df, fileName):\n",
    "    df.to_csv('./%s.csv' % fileName, header=True, index=False)\n",
    "exportPredictResult(test_data[['guess_date', 'predict', 'day_of_week']], '2_25_B')\n",
    "\n",
    "print(test_data.guess_date[test_data.predict <= 10])"
   ]
  },
  {
   "cell_type": "code",
   "execution_count": 67,
   "metadata": {
    "collapsed": true
   },
   "outputs": [],
   "source": [
    "#保存预测结果\n",
    "exportResult(predict_df[['date','predict']], 'linear_model_B_keng_2_25')"
   ]
  },
  {
   "cell_type": "code",
   "execution_count": null,
   "metadata": {
    "collapsed": true
   },
   "outputs": [],
   "source": []
  }
 ],
 "metadata": {
  "kernelspec": {
   "display_name": "Python 3",
   "language": "python",
   "name": "python3"
  },
  "language_info": {
   "codemirror_mode": {
    "name": "ipython",
    "version": 3
   },
   "file_extension": ".py",
   "mimetype": "text/x-python",
   "name": "python",
   "nbconvert_exporter": "python",
   "pygments_lexer": "ipython3",
   "version": "3.6.1"
  }
 },
 "nbformat": 4,
 "nbformat_minor": 2
}
