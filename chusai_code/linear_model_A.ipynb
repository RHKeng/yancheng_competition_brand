{
 "cells": [
  {
   "cell_type": "code",
   "execution_count": 1,
   "metadata": {
    "collapsed": true
   },
   "outputs": [],
   "source": [
    "import pandas as pd\n",
    "from pandas import Series, DataFrame\n",
    "import numpy as np\n",
    "from scipy.stats import mode\n",
    "import csv\n",
    "import matplotlib.dates\n",
    "from datetime import *\n",
    "from sklearn import linear_model\n",
    "from sklearn.preprocessing import *\n",
    "from sklearn import ensemble\n",
    "from sklearn.linear_model import LinearRegression\n",
    "from sklearn.model_selection import train_test_split\n",
    "from sklearn.externals import joblib"
   ]
  },
  {
   "cell_type": "code",
   "execution_count": 2,
   "metadata": {
    "collapsed": true
   },
   "outputs": [],
   "source": [
    "# 划分训练集和测试集\n",
    "def trainTestSplit(df, splitN, trainLabel):\n",
    "    trainX = df[:splitN][trainLabel]\n",
    "    trainY = df[:splitN]['cnt']\n",
    "    testX = df[splitN:][trainLabel]\n",
    "    testY = df[splitN:]['cnt']\n",
    "    return (trainX, trainY, testX, testY)\n",
    "\n",
    "# 训练模型\n",
    "def trainModel(X, y):\n",
    "#     clf = LinearRegression()\n",
    "#     clf = linear_model.LogisticRegression()\n",
    "#     clf = ensemble.RandomForestRegressor()\n",
    "    clf = linear_model.RidgeCV(alphas=[0.01*x for x in range(1,200)], scoring='neg_mean_squared_error')\n",
    "    clf.fit(X, y)\n",
    "    print('Coefficients:', clf.coef_)\n",
    "    return clf\n",
    "\n",
    "# 检验模型\n",
    "def validModel(trainX, trainY, testX, testY):\n",
    "    clf = trainModel(trainX, trainY)\n",
    "    predictY = clf.predict(testX)\n",
    "    cost = np.linalg.norm(predictY - testY)**2 / len(predictY)\n",
    "    print(\"cost:\", cost)\n",
    "    \n",
    "# 添加过去第i周的统计量\n",
    "def statWeek(df, weeks):\n",
    "    if isinstance(weeks, int):\n",
    "        weeks = [weeks]\n",
    "    colName = []\n",
    "    for i in weeks:\n",
    "        weekDf = pd.pivot_table(df, index=['week'], values=['cnt'], aggfunc=[np.mean, np.std, np.max, np.min])\n",
    "        weekDf.columns = ['mean%d'%i, 'std%d'%i, 'max%d'%i, 'min%d'%i]\n",
    "        colName.extend(weekDf.columns)\n",
    "        weekDf.index += i\n",
    "        df = pd.merge(df, weekDf, left_on='week', right_index=True, how='left')\n",
    "    return df,colName\n",
    "\n",
    "# 导出预测结果\n",
    "def exportResult(df, fileName):\n",
    "    df.to_csv('./%s.txt' % fileName, sep='\\t', header=False, index=False)"
   ]
  },
  {
   "cell_type": "code",
   "execution_count": 3,
   "metadata": {},
   "outputs": [
    {
     "name": "stdout",
     "output_type": "stream",
     "text": [
      "    cnt  day_of_week  week  guess_date  date_year  date_month  date_property  \\\n",
      "0    68            3     0  2013-01-02       2013           1              2   \n",
      "1    36            4     0  2013-01-03       2013           1              2   \n",
      "2  5565            5     0  2013-01-04       2013           1              0   \n",
      "3  4966            6     0  2013-01-05       2013           1              0   \n",
      "4  3346            7     0  2013-01-06       2013           1              0   \n",
      "5  3396            1     1  2013-01-07       2013           1              0   \n",
      "6  4146            2     1  2013-01-08       2013           1              0   \n",
      "7  3096            3     1  2013-01-09       2013           1              0   \n",
      "8  2713            4     1  2013-01-10       2013           1              0   \n",
      "9  2409            5     1  2013-01-11       2013           1              0   \n",
      "\n",
      "  guess_date_str  sale_quantity dividedMonth        ...          date_month_5  \\\n",
      "0     2013-01-02        28137.0        early        ...                     0   \n",
      "1     2013-01-03        28137.0        early        ...                     0   \n",
      "2     2013-01-04        28137.0        early        ...                     0   \n",
      "3     2013-01-05        28137.0        early        ...                     0   \n",
      "4     2013-01-06        28137.0        early        ...                     0   \n",
      "5     2013-01-07        28137.0        early        ...                     0   \n",
      "6     2013-01-08        28137.0        early        ...                     0   \n",
      "7     2013-01-09        28137.0        early        ...                     0   \n",
      "8     2013-01-10        28137.0        early        ...                     0   \n",
      "9     2013-01-11        28137.0        early        ...                     0   \n",
      "\n",
      "   date_month_6  date_month_7  date_month_8  date_month_9  date_month_10  \\\n",
      "0             0             0             0             0              0   \n",
      "1             0             0             0             0              0   \n",
      "2             0             0             0             0              0   \n",
      "3             0             0             0             0              0   \n",
      "4             0             0             0             0              0   \n",
      "5             0             0             0             0              0   \n",
      "6             0             0             0             0              0   \n",
      "7             0             0             0             0              0   \n",
      "8             0             0             0             0              0   \n",
      "9             0             0             0             0              0   \n",
      "\n",
      "   date_month_11  date_month_12  dividedMonth_early  dividedMonth_late  \n",
      "0              0              0                   1                  0  \n",
      "1              0              0                   1                  0  \n",
      "2              0              0                   1                  0  \n",
      "3              0              0                   1                  0  \n",
      "4              0              0                   1                  0  \n",
      "5              0              0                   1                  0  \n",
      "6              0              0                   1                  0  \n",
      "7              0              0                   1                  0  \n",
      "8              0              0                   1                  0  \n",
      "9              0              0                   1                  0  \n",
      "\n",
      "[10 rows x 47 columns]\n"
     ]
    }
   ],
   "source": [
    "#导入训练数据\n",
    "train_data = pd.read_csv('A_fulltraining_feature_set.csv')\n",
    "\n",
    "print(train_data.head(10))"
   ]
  },
  {
   "cell_type": "code",
   "execution_count": 22,
   "metadata": {},
   "outputs": [
    {
     "name": "stdout",
     "output_type": "stream",
     "text": [
      "<class 'pandas.core.frame.DataFrame'>\n",
      "RangeIndex: 797 entries, 0 to 796\n",
      "Data columns (total 27 columns):\n",
      "sale_quantity_scaled    797 non-null float64\n",
      "day_of_week_1           797 non-null int64\n",
      "day_of_week_2           797 non-null int64\n",
      "day_of_week_3           797 non-null int64\n",
      "day_of_week_4           797 non-null int64\n",
      "day_of_week_5           797 non-null int64\n",
      "day_of_week_6           797 non-null int64\n",
      "day_of_week_7           797 non-null int64\n",
      "date_property_0         797 non-null int64\n",
      "date_property_1         797 non-null int64\n",
      "date_property_2         797 non-null int64\n",
      "date_month_1            797 non-null int64\n",
      "date_month_2            797 non-null int64\n",
      "date_month_3            797 non-null int64\n",
      "date_month_4            797 non-null int64\n",
      "date_month_5            797 non-null int64\n",
      "date_month_6            797 non-null int64\n",
      "date_month_7            797 non-null int64\n",
      "date_month_8            797 non-null int64\n",
      "date_month_9            797 non-null int64\n",
      "date_month_10           797 non-null int64\n",
      "date_month_11           797 non-null int64\n",
      "date_month_12           797 non-null int64\n",
      "after_restday_one       797 non-null int64\n",
      "after_holiday_one       797 non-null int64\n",
      "is_newYearDay           797 non-null int64\n",
      "isHolidayWeekend        797 non-null int64\n",
      "dtypes: float64(1), int64(26)\n",
      "memory usage: 168.2 KB\n",
      "None\n"
     ]
    }
   ],
   "source": [
    "# 划分训练测试集\n",
    "splitN = int(train_data.index[-1] * 0.67)\n",
    "fea = [ 'sale_quantity_scaled', 'day_of_week_1', 'day_of_week_2', 'day_of_week_3',\n",
    "      'day_of_week_4', 'day_of_week_5', 'day_of_week_6', 'day_of_week_7', 'date_property_0', 'date_property_1', 'date_property_2',\n",
    "       'date_month_1', 'date_month_2', 'date_month_3', 'date_month_4', 'date_month_5', 'date_month_6', 'date_month_7',\n",
    "       'date_month_8', 'date_month_9', 'date_month_10', 'date_month_11', 'date_month_12',\n",
    "      'after_restday_one', 'after_holiday_one', 'is_newYearDay', 'isHolidayWeekend']\n",
    "# fea = ['week_scaled', 'date_year_scaled', 'sale_quantity_scaled', 'day_of_week_1', 'day_of_week_2', 'day_of_week_3',\n",
    "#       'day_of_week_4', 'day_of_week_5', 'day_of_week_6', 'day_of_week_7', 'date_property_0', 'date_property_1', 'date_property_2',\n",
    "#       'date_month_1', 'date_month_2', 'date_month_3', 'date_month_4', 'date_month_5', 'date_month_6', 'date_month_7',\n",
    "#       'date_month_8', 'date_month_9', 'date_month_10', 'date_month_11', 'date_month_12',\n",
    "#        'dividedMonth_late', 'dividedMonth_early',\n",
    "#       'after_restday_one', 'after_holiday_one', 'is_holi_restday', 'is_newYearDay', 'isHolidayWeekend', 'isPureWeekend']\n",
    "trainX,trainY,testX,testY = trainTestSplit(train_data, splitN, fea)\n",
    "print(trainX.info())"
   ]
  },
  {
   "cell_type": "code",
   "execution_count": 23,
   "metadata": {},
   "outputs": [
    {
     "name": "stdout",
     "output_type": "stream",
     "text": [
      "Coefficients: [ 1293.26298164   366.60953297   265.15920698   -11.27698942  -390.65169631\n",
      "  -166.49965812    61.42218802  -124.76258413  1341.63015461  -537.85346338\n",
      "  -803.77669123   802.69042415   218.49541904   -19.81278918   -63.12964945\n",
      "   -18.12394411  -202.92766132  -172.01569925  -194.95513731    -8.71301626\n",
      "    -6.52198232  -151.84138315  -183.14458083  -150.64696655  1662.6066923\n",
      "  -677.36080745    23.27886307]\n",
      "cost: 327748.496453\n"
     ]
    }
   ],
   "source": [
    "#检验模型\n",
    "validModel(trainX.values, trainY.values, testX.values, testY.values)"
   ]
  },
  {
   "cell_type": "code",
   "execution_count": 24,
   "metadata": {},
   "outputs": [
    {
     "name": "stdout",
     "output_type": "stream",
     "text": [
      "Coefficients: [  955.93546984   317.90585364   350.35099959    45.41680449  -396.65241576\n",
      "  -122.01381277    22.83365903  -217.84108822  1344.83149616  -475.77943004\n",
      "  -869.05206612   869.97653231   375.7621051    -63.59795351   -89.35192432\n",
      "   -39.90582665  -221.28182412  -204.66375774  -196.70888297   -44.42316739\n",
      "    -6.64106752  -168.75542406  -210.40880914   -29.25844615  1508.64894437\n",
      "  -754.26008835   134.67516332]\n"
     ]
    }
   ],
   "source": [
    "# 正式模型\n",
    "modelName = \"linear2\"\n",
    "clf = trainModel(train_data[:][fea].values, train_data[:]['cnt'].values)\n",
    "# clf = trainModel(train_data[-750:][fea].values, train_data[-750:]['cnt'].values)"
   ]
  },
  {
   "cell_type": "code",
   "execution_count": 25,
   "metadata": {},
   "outputs": [
    {
     "name": "stdout",
     "output_type": "stream",
     "text": [
      "   day_of_week  week   day  guess_date  date_year  date_month  date_property  \\\n",
      "0            4   170  1194  2016-04-07       2016           4              0   \n",
      "1            5   170  1195  2016-04-08       2016           4              0   \n",
      "2            6   170  1196  2016-04-09       2016           4              1   \n",
      "3            1   171  1198  2016-04-11       2016           4              0   \n",
      "4            2   171  1199  2016-04-12       2016           4              0   \n",
      "5            3   171  1200  2016-04-13       2016           4              0   \n",
      "6            4   171  1201  2016-04-14       2016           4              0   \n",
      "7            5   171  1202  2016-04-15       2016           4              0   \n",
      "8            6   171  1203  2016-04-16       2016           4              1   \n",
      "9            1   172  1205  2016-04-18       2016           4              0   \n",
      "\n",
      "  guess_date_str  sale_quantity dividedMonth      ...       date_month_6  \\\n",
      "0     2016-04-07        41163.0        early      ...                  0   \n",
      "1     2016-04-08        41163.0        early      ...                  0   \n",
      "2     2016-04-09        41163.0        early      ...                  0   \n",
      "3     2016-04-11        41163.0        early      ...                  0   \n",
      "4     2016-04-12        41163.0        early      ...                  0   \n",
      "5     2016-04-13        41163.0        early      ...                  0   \n",
      "6     2016-04-14        41163.0        early      ...                  0   \n",
      "7     2016-04-15        41163.0        early      ...                  0   \n",
      "8     2016-04-16        41163.0         late      ...                  0   \n",
      "9     2016-04-18        41163.0         late      ...                  0   \n",
      "\n",
      "   date_month_7  date_month_8  date_month_9  date_month_10  date_month_11  \\\n",
      "0             0             0             0              0              0   \n",
      "1             0             0             0              0              0   \n",
      "2             0             0             0              0              0   \n",
      "3             0             0             0              0              0   \n",
      "4             0             0             0              0              0   \n",
      "5             0             0             0              0              0   \n",
      "6             0             0             0              0              0   \n",
      "7             0             0             0              0              0   \n",
      "8             0             0             0              0              0   \n",
      "9             0             0             0              0              0   \n",
      "\n",
      "   date_month_12  dividedMonth_early  dividedMonth_late  date_month_3  \n",
      "0              0                   1                  0             0  \n",
      "1              0                   1                  0             0  \n",
      "2              0                   1                  0             0  \n",
      "3              0                   1                  0             0  \n",
      "4              0                   1                  0             0  \n",
      "5              0                   1                  0             0  \n",
      "6              0                   1                  0             0  \n",
      "7              0                   1                  0             0  \n",
      "8              0                   0                  1             0  \n",
      "9              0                   0                  1             0  \n",
      "\n",
      "[10 rows x 47 columns]\n"
     ]
    }
   ],
   "source": [
    "#导入测试数据\n",
    "test_data = pd.read_csv('A_fulltesting_feature_set.csv')\n",
    "\n",
    "print(test_data.head(10))"
   ]
  },
  {
   "cell_type": "code",
   "execution_count": 26,
   "metadata": {},
   "outputs": [
    {
     "name": "stdout",
     "output_type": "stream",
     "text": [
      "   date  day_of_week      predict\n",
      "0  1032            4  1707.144816\n",
      "1  1033            5  1981.783419\n",
      "2  1034            6   306.019964\n",
      "3  1035            1  2392.444639\n",
      "4  1036            2  2454.148231\n",
      "5  1037            3  2149.214036\n",
      "6  1038            4  1707.144816\n",
      "7  1039            5  1981.783419\n",
      "8  1040            6   306.019964\n",
      "9  1041            1  2392.444639\n"
     ]
    }
   ],
   "source": [
    "#进行预测\n",
    "predict = clf.predict(test_data[:][fea].values)\n",
    "\n",
    "predict_df = pd.read_csv('test_A_20171225.txt', sep='\\t')\n",
    "predict_df['predict'] = predict\n",
    "predict_df['predict'] = predict_df.predict.map(lambda x: 0 if x < 0 else x)\n",
    "\n",
    "print(predict_df.head(10))"
   ]
  },
  {
   "cell_type": "code",
   "execution_count": 27,
   "metadata": {},
   "outputs": [
    {
     "name": "stdout",
     "output_type": "stream",
     "text": [
      "504174.972413\n"
     ]
    }
   ],
   "source": [
    "#利用A榜公布的答案进行模型特征调整\n",
    "answer_predict = pd.read_csv('answer_A_20180225.txt', sep='\\t', header=None)\n",
    "cost = np.linalg.norm(predict - answer_predict[:][1])**2 / len(predict)\n",
    "print(cost)"
   ]
  },
  {
   "cell_type": "code",
   "execution_count": 113,
   "metadata": {
    "collapsed": true
   },
   "outputs": [],
   "source": [
    "#查看预测结果\n",
    "test_data['predict'] = predict\n",
    "test_data['answer'] = answer_predict[:][1]\n",
    "\n",
    "# 导出训练集预处理结果\n",
    "def exportPredictResult(df, fileName):\n",
    "    df.to_csv('./%s.csv' % fileName, header=True, index=False)\n",
    "exportPredictResult(test_data[['guess_date', 'predict', 'answer', 'day_of_week']], 'A_compare')"
   ]
  },
  {
   "cell_type": "code",
   "execution_count": 27,
   "metadata": {
    "collapsed": true
   },
   "outputs": [],
   "source": [
    "#stacking\n",
    "import numpy as np\n",
    "from sklearn.model_selection import KFold\n",
    "\n",
    "# 返回训练集预测结果和测试集预测结果\n",
    "def getOof(clf, trainX, trainY, testX, nFold=10):\n",
    "    oofTrain = np.zeros(trainX.shape[0])\n",
    "    oofTest = np.zeros(testX.shape[0])\n",
    "    oofTestSkf = np.zeros((testX.shape[0], nFold))\n",
    "    kf = KFold(n_splits=nFold, shuffle=True)\n",
    "    for i, (trainIdx, testIdx) in enumerate(kf.split(trainX)):\n",
    "        kfTrainX = trainX[trainIdx]\n",
    "        kfTrainY = trainY[trainIdx]\n",
    "        kfTestX = trainX[testIdx]\n",
    "        clf.fit(kfTrainX, kfTrainY)\n",
    "        oofTrain[testIdx] = clf.predict(kfTestX)\n",
    "        oofTestSkf[:,i] = clf.predict(testX)\n",
    "    oofTest[:] = oofTestSkf.mean(axis=1)\n",
    "    return oofTrain, oofTest\n",
    "\n",
    "oofTrain, oofTest = getOof(clf, train_data[:][fea].values, train_data[:]['cnt'].values, test_data[:][fea].values)\n",
    "\n",
    "df = pd.read_csv('train_20171215.txt', sep='\\t')\n",
    "dataDf = pd.pivot_table(df,index=[\"date\"], values=[\"cnt\",\"day_of_week\"], aggfunc={\"cnt\":np.sum, \"day_of_week\": np.max})\n",
    "dataDf['predict'] = oofTrain\n",
    "oofTrain_df = dataDf[:]['predict']\n",
    "oofTrain_df.to_csv('stacking_keng1_train.csv', header=True, index=True)\n",
    "\n",
    "df_test_A = pd.read_csv('test_A_20171225.txt', sep='\\t')\n",
    "df_test_A['predict'] = oofTest\n",
    "oofTest_df = df_test_A[:][['date', 'predict']]\n",
    "oofTest_df.to_csv('stacking_keng1_test.csv', header=True, index=False)"
   ]
  },
  {
   "cell_type": "code",
   "execution_count": 9,
   "metadata": {},
   "outputs": [
    {
     "name": "stdout",
     "output_type": "stream",
     "text": [
      "53     2016-06-09\n",
      "54     2016-06-11\n",
      "140    2016-09-15\n",
      "155    2016-10-06\n",
      "Name: guess_date, dtype: object\n"
     ]
    }
   ],
   "source": [
    "#查看预测结果\n",
    "test_data['predict'] = predict\n",
    "\n",
    "# 导出训练集预处理结果\n",
    "def exportPredictResult(df, fileName):\n",
    "    df.to_csv('./%s.csv' % fileName, header=True, index=False)\n",
    "exportPredictResult(test_data[['guess_date', 'predict', 'day_of_week']], 'predict_result_isPureWeekend')\n",
    "\n",
    "print(test_data.guess_date[test_data.predict <= 10])"
   ]
  },
  {
   "cell_type": "code",
   "execution_count": 10,
   "metadata": {
    "collapsed": true
   },
   "outputs": [],
   "source": [
    "#保存预测结果\n",
    "exportResult(predict_df[['date','predict']], 'linear_all_data_isPureWeekend_2_8')"
   ]
  },
  {
   "cell_type": "code",
   "execution_count": null,
   "metadata": {
    "collapsed": true
   },
   "outputs": [],
   "source": []
  }
 ],
 "metadata": {
  "kernelspec": {
   "display_name": "Python 3",
   "language": "python",
   "name": "python3"
  },
  "language_info": {
   "codemirror_mode": {
    "name": "ipython",
    "version": 3
   },
   "file_extension": ".py",
   "mimetype": "text/x-python",
   "name": "python",
   "nbconvert_exporter": "python",
   "pygments_lexer": "ipython3",
   "version": "3.6.1"
  }
 },
 "nbformat": 4,
 "nbformat_minor": 2
}
